{
 "cells": [
  {
   "cell_type": "code",
   "execution_count": null,
   "metadata": {},
   "outputs": [],
   "source": [
    "CB_B_LOGO_DEVELOPMENT = 'cb_b_logo_development'\n",
    "\n",
    "SERVICE_TITLE = {\n",
    "    CB_B_SITE_DEVELOPMENT: 'Разработка сайта',\n",
    "    CB_B_BOT_DEVELOPMENT: \"Разработка ботов\",\n",
    "    CB_B_DESIGN_DEVELOPMENT: \"Разработка дизайна\",\n",
    "    CB_B_LOGO_DEVELOPMENT: \"Разработка логотипа\",\n",
    "    CB_B_DESIGN_VK_GROUPS: \"Оформление групп\",\n",
    "    CB_B_MARKETING: \"Маркетинг\",\n",
    "    CB_B_MORE: \"Подробнее ➡️\",\n",
    "}"
   ]
  }
 ],
 "metadata": {
  "kernelspec": {
   "display_name": "Python 3",
   "language": "python",
   "name": "python3"
  },
  "language_info": {
   "codemirror_mode": {
    "name": "ipython",
    "version": 3
   },
   "file_extension": ".py",
   "mimetype": "text/x-python",
   "name": "python",
   "nbconvert_exporter": "python",
   "pygments_lexer": "ipython3",
   "version": "3.7.6"
  }
 },
 "nbformat": 4,
 "nbformat_minor": 4
}
